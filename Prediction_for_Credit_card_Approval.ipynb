{
  "nbformat": 4,
  "nbformat_minor": 0,
  "metadata": {
    "colab": {
      "provenance": [],
      "authorship_tag": "ABX9TyOUw4oXzceDyXWM2hNhNMoe",
      "include_colab_link": true
    },
    "kernelspec": {
      "name": "python3",
      "display_name": "Python 3"
    },
    "language_info": {
      "name": "python"
    }
  },
  "cells": [
    {
      "cell_type": "markdown",
      "metadata": {
        "id": "view-in-github",
        "colab_type": "text"
      },
      "source": [
        "<a href=\"https://colab.research.google.com/github/K-ra-droid/Internship/blob/main/Prediction_for_Credit_card_Approval.ipynb\" target=\"_parent\"><img src=\"https://colab.research.google.com/assets/colab-badge.svg\" alt=\"Open In Colab\"/></a>"
      ]
    },
    {
      "cell_type": "markdown",
      "source": [
        "**Prediction for Credit card Approval**\n",
        "\n",
        "*Krupa Maru (MIP-ML-04)*"
      ],
      "metadata": {
        "id": "UAp_hoeyIi7t"
      }
    },
    {
      "cell_type": "code",
      "execution_count": null,
      "metadata": {
        "id": "mny4Zgu2EXPQ"
      },
      "outputs": [],
      "source": [
        "import pandas as pd\n",
        "\n",
        "# Load the training data\n",
        "train_data = pd.read_csv(\"train_data.csv\")\n"
      ]
    },
    {
      "cell_type": "code",
      "source": [
        "# Univariate Analysis\n",
        "print(train_data.describe())# Display summary statistics\n",
        "print(train_data.info())# Display basic information about the dataset\n",
        "\n",
        "# Bivariate Analysis\n",
        "# Visualize the distribution of the target variable\n",
        "import seaborn as sns\n",
        "import matplotlib.pyplot as plt\n",
        "\n",
        "sns.countplot(x='Is high risk', data=train_data)\n",
        "plt.show()\n"
      ],
      "metadata": {
        "colab": {
          "base_uri": "https://localhost:8080/",
          "height": 1000
        },
        "id": "O-5pzWDpFvkd",
        "outputId": "a3d59195-110b-4e65-c698-0bfa7cf61d47"
      },
      "execution_count": null,
      "outputs": [
        {
          "output_type": "stream",
          "name": "stdout",
          "text": [
            "                 ID  Children count        Income           Age  \\\n",
            "count  2.916500e+04    29165.000000  2.916500e+04  29165.000000   \n",
            "mean   5.078232e+06        0.430790  1.868904e+05 -15979.477490   \n",
            "std    4.182400e+04        0.741882  1.014096e+05   4202.997485   \n",
            "min    5.008804e+06        0.000000  2.700000e+04 -25152.000000   \n",
            "25%    5.042047e+06        0.000000  1.215000e+05 -19444.000000   \n",
            "50%    5.074666e+06        0.000000  1.575000e+05 -15565.000000   \n",
            "75%    5.114629e+06        1.000000  2.250000e+05 -12475.000000   \n",
            "max    5.150485e+06       19.000000  1.575000e+06  -7705.000000   \n",
            "\n",
            "       Employment length  Has a mobile phone  Has a work phone   Has a phone  \\\n",
            "count       29165.000000             29165.0      29165.000000  29165.000000   \n",
            "mean        59257.761255                 1.0          0.224310      0.294977   \n",
            "std        137655.883458                 0.0          0.417134      0.456040   \n",
            "min        -15713.000000                 1.0          0.000000      0.000000   \n",
            "25%         -3153.000000                 1.0          0.000000      0.000000   \n",
            "50%         -1557.000000                 1.0          0.000000      0.000000   \n",
            "75%          -412.000000                 1.0          0.000000      1.000000   \n",
            "max        365243.000000                 1.0          1.000000      1.000000   \n",
            "\n",
            "       Has an email  Family member count   Account age  Is high risk  \n",
            "count  29165.000000         29165.000000  29165.000000  29165.000000  \n",
            "mean       0.090279             2.197531    -26.137734      0.017110  \n",
            "std        0.286587             0.912189     16.486702      0.129682  \n",
            "min        0.000000             1.000000    -60.000000      0.000000  \n",
            "25%        0.000000             2.000000    -39.000000      0.000000  \n",
            "50%        0.000000             2.000000    -24.000000      0.000000  \n",
            "75%        0.000000             3.000000    -12.000000      0.000000  \n",
            "max        1.000000            20.000000      0.000000      1.000000  \n",
            "<class 'pandas.core.frame.DataFrame'>\n",
            "RangeIndex: 29165 entries, 0 to 29164\n",
            "Data columns (total 20 columns):\n",
            " #   Column               Non-Null Count  Dtype  \n",
            "---  ------               --------------  -----  \n",
            " 0   ID                   29165 non-null  int64  \n",
            " 1   Gender               29165 non-null  object \n",
            " 2   Has a car            29165 non-null  object \n",
            " 3   Has a property       29165 non-null  object \n",
            " 4   Children count       29165 non-null  int64  \n",
            " 5   Income               29165 non-null  float64\n",
            " 6   Employment status    29165 non-null  object \n",
            " 7   Education level      29165 non-null  object \n",
            " 8   Marital status       29165 non-null  object \n",
            " 9   Dwelling             29165 non-null  object \n",
            " 10  Age                  29165 non-null  int64  \n",
            " 11  Employment length    29165 non-null  int64  \n",
            " 12  Has a mobile phone   29165 non-null  int64  \n",
            " 13  Has a work phone     29165 non-null  int64  \n",
            " 14  Has a phone          29165 non-null  int64  \n",
            " 15  Has an email         29165 non-null  int64  \n",
            " 16  Job title            20138 non-null  object \n",
            " 17  Family member count  29165 non-null  float64\n",
            " 18  Account age          29165 non-null  float64\n",
            " 19  Is high risk         29165 non-null  int64  \n",
            "dtypes: float64(3), int64(9), object(8)\n",
            "memory usage: 4.5+ MB\n",
            "None\n"
          ]
        },
        {
          "output_type": "display_data",
          "data": {
            "text/plain": [
              "<Figure size 640x480 with 1 Axes>"
            ],
            "image/png": "[encoded data removed]"
          },
          "metadata": {}
        }
      ]
    },
    {
      "cell_type": "code",
      "source": [
        "# Example: Convert categorical variables into numerical representations\n",
        "train_data['Gender'] = train_data['Gender'].map({'F': 0, 'M': 1})\n",
        "\n",
        "# Example: Handling missing values\n",
        "train_data.fillna(train_data.mean(), inplace=True)\n",
        "\n",
        "# Example: Encoding categorical variables\n",
        "train_data = pd.get_dummies(train_data, columns=['Education level', 'Marital status'])\n"
      ],
      "metadata": {
        "colab": {
          "base_uri": "https://localhost:8080/"
        },
        "id": "sc7yDWgcFzyX",
        "outputId": "bccb3144-843a-4fd8-c1fe-96ab8cf1767d"
      },
      "execution_count": null,
      "outputs": [
        {
          "output_type": "stream",
          "name": "stderr",
          "text": [
            "<ipython-input-3-c192f49a57a5>:5: FutureWarning: The default value of numeric_only in DataFrame.mean is deprecated. In a future version, it will default to False. In addition, specifying 'numeric_only=None' is deprecated. Select only valid columns or specify the value of numeric_only to silence this warning.\n",
            "  train_data.fillna(train_data.mean(), inplace=True)\n"
          ]
        }
      ]
    },
    {
      "cell_type": "code",
      "source": [
        "from sklearn.model_selection import train_test_split\n",
        "\n",
        "# Separate features (X) and target variable (y)\n",
        "X = train_data.drop(columns=['ID', 'Is high risk'])\n",
        "y = train_data['Is high risk']\n",
        "\n",
        "# Split the data into training and validation sets\n",
        "X_train, X_val, y_train, y_val = train_test_split(X, y, test_size=0.2, random_state=42)\n",
        "\n",
        "# Encode categorical variables using one-hot encoding for both training and validation sets\n",
        "X_train_encoded = pd.get_dummies(X_train)\n",
        "X_val_encoded = pd.get_dummies(X_val)\n"
      ],
      "metadata": {
        "id": "M3hnCI0mRxqY"
      },
      "execution_count": null,
      "outputs": []
    },
    {
      "cell_type": "code",
      "source": [
        "# Check data types\n",
        "print(X_train.dtypes)\n",
        "\n",
        "# Check for missing values\n",
        "print(X_train.isnull().sum())\n",
        "\n",
        "# Check data shape\n",
        "print(X_train.shape)\n"
      ],
      "metadata": {
        "colab": {
          "base_uri": "https://localhost:8080/"
        },
        "id": "Nl9r_xzgGw5b",
        "outputId": "c38edb2e-ea9d-4a93-ccdc-4ecb680d493b"
      },
      "execution_count": null,
      "outputs": [
        {
          "output_type": "stream",
          "name": "stdout",
          "text": [
            "Gender                                             int64\n",
            "Has a car                                         object\n",
            "Has a property                                    object\n",
            "Children count                                     int64\n",
            "Income                                           float64\n",
            "Employment status                                 object\n",
            "Dwelling                                          object\n",
            "Age                                                int64\n",
            "Employment length                                  int64\n",
            "Has a mobile phone                                 int64\n",
            "Has a work phone                                   int64\n",
            "Has a phone                                        int64\n",
            "Has an email                                       int64\n",
            "Job title                                         object\n",
            "Family member count                              float64\n",
            "Account age                                      float64\n",
            "Education level_Academic degree                    uint8\n",
            "Education level_Higher education                   uint8\n",
            "Education level_Incomplete higher                  uint8\n",
            "Education level_Lower secondary                    uint8\n",
            "Education level_Secondary / secondary special      uint8\n",
            "Marital status_Civil marriage                      uint8\n",
            "Marital status_Married                             uint8\n",
            "Marital status_Separated                           uint8\n",
            "Marital status_Single / not married                uint8\n",
            "Marital status_Widow                               uint8\n",
            "dtype: object\n",
            "Gender                                              0\n",
            "Has a car                                           0\n",
            "Has a property                                      0\n",
            "Children count                                      0\n",
            "Income                                              0\n",
            "Employment status                                   0\n",
            "Dwelling                                            0\n",
            "Age                                                 0\n",
            "Employment length                                   0\n",
            "Has a mobile phone                                  0\n",
            "Has a work phone                                    0\n",
            "Has a phone                                         0\n",
            "Has an email                                        0\n",
            "Job title                                        7239\n",
            "Family member count                                 0\n",
            "Account age                                         0\n",
            "Education level_Academic degree                     0\n",
            "Education level_Higher education                    0\n",
            "Education level_Incomplete higher                   0\n",
            "Education level_Lower secondary                     0\n",
            "Education level_Secondary / secondary special       0\n",
            "Marital status_Civil marriage                       0\n",
            "Marital status_Married                              0\n",
            "Marital status_Separated                            0\n",
            "Marital status_Single / not married                 0\n",
            "Marital status_Widow                                0\n",
            "dtype: int64\n",
            "(23332, 26)\n"
          ]
        }
      ]
    },
    {
      "cell_type": "code",
      "source": [
        "# Encode categorical variables using one-hot encoding\n",
        "X_train_encoded = pd.get_dummies(X_train, columns=['Has a car', 'Has a property', 'Employment status', 'Dwelling', 'Job title'])\n",
        "# Check data types after encoding\n",
        "print(X_train_encoded.dtypes)\n"
      ],
      "metadata": {
        "colab": {
          "base_uri": "https://localhost:8080/"
        },
        "id": "MkGtPg_NG4Rs",
        "outputId": "1cb9a657-1e7f-4c23-a0de-619fb3b54c34"
      },
      "execution_count": null,
      "outputs": [
        {
          "output_type": "stream",
          "name": "stdout",
          "text": [
            "Gender                                             int64\n",
            "Children count                                     int64\n",
            "Income                                           float64\n",
            "Age                                                int64\n",
            "Employment length                                  int64\n",
            "Has a mobile phone                                 int64\n",
            "Has a work phone                                   int64\n",
            "Has a phone                                        int64\n",
            "Has an email                                       int64\n",
            "Family member count                              float64\n",
            "Account age                                      float64\n",
            "Education level_Academic degree                    uint8\n",
            "Education level_Higher education                   uint8\n",
            "Education level_Incomplete higher                  uint8\n",
            "Education level_Lower secondary                    uint8\n",
            "Education level_Secondary / secondary special      uint8\n",
            "Marital status_Civil marriage                      uint8\n",
            "Marital status_Married                             uint8\n",
            "Marital status_Separated                           uint8\n",
            "Marital status_Single / not married                uint8\n",
            "Marital status_Widow                               uint8\n",
            "Has a car_N                                        uint8\n",
            "Has a car_Y                                        uint8\n",
            "Has a property_N                                   uint8\n",
            "Has a property_Y                                   uint8\n",
            "Employment status_Commercial associate             uint8\n",
            "Employment status_Pensioner                        uint8\n",
            "Employment status_State servant                    uint8\n",
            "Employment status_Student                          uint8\n",
            "Employment status_Working                          uint8\n",
            "Dwelling_Co-op apartment                           uint8\n",
            "Dwelling_House / apartment                         uint8\n",
            "Dwelling_Municipal apartment                       uint8\n",
            "Dwelling_Office apartment                          uint8\n",
            "Dwelling_Rented apartment                          uint8\n",
            "Dwelling_With parents                              uint8\n",
            "Job title_Accountants                              uint8\n",
            "Job title_Cleaning staff                           uint8\n",
            "Job title_Cooking staff                            uint8\n",
            "Job title_Core staff                               uint8\n",
            "Job title_Drivers                                  uint8\n",
            "Job title_HR staff                                 uint8\n",
            "Job title_High skill tech staff                    uint8\n",
            "Job title_IT staff                                 uint8\n",
            "Job title_Laborers                                 uint8\n",
            "Job title_Low-skill Laborers                       uint8\n",
            "Job title_Managers                                 uint8\n",
            "Job title_Medicine staff                           uint8\n",
            "Job title_Private service staff                    uint8\n",
            "Job title_Realty agents                            uint8\n",
            "Job title_Sales staff                              uint8\n",
            "Job title_Secretaries                              uint8\n",
            "Job title_Security staff                           uint8\n",
            "Job title_Waiters/barmen staff                     uint8\n",
            "dtype: object\n"
          ]
        }
      ]
    },
    {
      "cell_type": "code",
      "source": [
        "from sklearn.linear_model import LogisticRegression\n",
        "from sklearn.tree import DecisionTreeClassifier\n",
        "from sklearn.ensemble import RandomForestClassifier, GradientBoostingClassifier\n",
        "\n",
        "# Initialize models\n",
        "logistic_regression = LogisticRegression()\n",
        "decision_tree = DecisionTreeClassifier()\n",
        "random_forest = RandomForestClassifier()\n",
        "gradient_boosting = GradientBoostingClassifier()\n",
        "\n",
        "# Train models\n",
        "logistic_regression.fit(X_train_encoded, y_train)\n",
        "decision_tree.fit(X_train_encoded, y_train)\n",
        "random_forest.fit(X_train_encoded, y_train)\n",
        "gradient_boosting.fit(X_train_encoded, y_train)\n",
        "\n",
        "from sklearn.metrics import classification_report\n",
        "\n",
        "# Predictions on validation set\n",
        "logistic_regression_preds = logistic_regression.predict(X_val_encoded)\n",
        "decision_tree_preds = decision_tree.predict(X_val_encoded)\n",
        "random_forest_preds = random_forest.predict(X_val_encoded)\n",
        "gradient_boosting_preds = gradient_boosting.predict(X_val_encoded)\n",
        "\n",
        "# Evaluate model performance\n",
        "print(\"Logistic Regression:\")\n",
        "print(classification_report(y_val, logistic_regression_preds))\n",
        "\n",
        "print(\"Decision Tree:\")\n",
        "print(classification_report(y_val, decision_tree_preds))\n",
        "\n",
        "print(\"Random Forest:\")\n",
        "print(classification_report(y_val, random_forest_preds))\n",
        "\n",
        "print(\"Gradient Boosting:\")\n",
        "print(classification_report(y_val, gradient_boosting_preds))\n"
      ],
      "metadata": {
        "colab": {
          "base_uri": "https://localhost:8080/"
        },
        "id": "vLgywnE4F1Ob",
        "outputId": "1a72c727-bde6-4893-d4df-9fccfdc1e3bb"
      },
      "execution_count": null,
      "outputs": [
        {
          "output_type": "stream",
          "name": "stdout",
          "text": [
            "Logistic Regression:\n",
            "              precision    recall  f1-score   support\n",
            "\n",
            "           0       0.99      1.00      0.99      5747\n",
            "           1       0.00      0.00      0.00        86\n",
            "\n",
            "    accuracy                           0.99      5833\n",
            "   macro avg       0.49      0.50      0.50      5833\n",
            "weighted avg       0.97      0.99      0.98      5833\n",
            "\n",
            "Decision Tree:\n",
            "              precision    recall  f1-score   support\n",
            "\n",
            "           0       0.99      0.99      0.99      5747\n",
            "           1       0.20      0.24      0.22        86\n",
            "\n",
            "    accuracy                           0.97      5833\n",
            "   macro avg       0.59      0.61      0.60      5833\n",
            "weighted avg       0.98      0.97      0.98      5833\n",
            "\n",
            "Random Forest:\n",
            "              precision    recall  f1-score   support\n",
            "\n",
            "           0       0.99      1.00      0.99      5747\n",
            "           1       0.31      0.12      0.17        86\n",
            "\n",
            "    accuracy                           0.98      5833\n",
            "   macro avg       0.65      0.56      0.58      5833\n",
            "weighted avg       0.98      0.98      0.98      5833\n",
            "\n",
            "Gradient Boosting:\n",
            "              precision    recall  f1-score   support\n",
            "\n",
            "           0       0.99      1.00      0.99      5747\n",
            "           1       0.50      0.05      0.09        86\n",
            "\n",
            "    accuracy                           0.99      5833\n",
            "   macro avg       0.74      0.52      0.54      5833\n",
            "weighted avg       0.98      0.99      0.98      5833\n",
            "\n"
          ]
        },
        {
          "output_type": "stream",
          "name": "stderr",
          "text": [
            "/usr/local/lib/python3.10/dist-packages/sklearn/metrics/_classification.py:1344: UndefinedMetricWarning: Precision and F-score are ill-defined and being set to 0.0 in labels with no predicted samples. Use `zero_division` parameter to control this behavior.\n",
            "  _warn_prf(average, modifier, msg_start, len(result))\n",
            "/usr/local/lib/python3.10/dist-packages/sklearn/metrics/_classification.py:1344: UndefinedMetricWarning: Precision and F-score are ill-defined and being set to 0.0 in labels with no predicted samples. Use `zero_division` parameter to control this behavior.\n",
            "  _warn_prf(average, modifier, msg_start, len(result))\n",
            "/usr/local/lib/python3.10/dist-packages/sklearn/metrics/_classification.py:1344: UndefinedMetricWarning: Precision and F-score are ill-defined and being set to 0.0 in labels with no predicted samples. Use `zero_division` parameter to control this behavior.\n",
            "  _warn_prf(average, modifier, msg_start, len(result))\n"
          ]
        }
      ]
    },
    {
      "cell_type": "code",
      "source": [
        "# Data Preprocessing: Encode categorical variables\n",
        "X_train_encoded = pd.get_dummies(X_train)\n",
        "X_val_encoded = pd.get_dummies(X_val)\n",
        "\n",
        "# Train Logistic Regression\n",
        "logistic_regression = LogisticRegression()\n",
        "logistic_regression.fit(X_train_encoded, y_train)\n"
      ],
      "metadata": {
        "colab": {
          "base_uri": "https://localhost:8080/",
          "height": 75
        },
        "id": "TohZ7J-RR8J7",
        "outputId": "af850f91-102c-45d3-ab8b-1a147d23d63a"
      },
      "execution_count": null,
      "outputs": [
        {
          "output_type": "execute_result",
          "data": {
            "text/plain": [
              "LogisticRegression()"
            ],
            "text/html": [
              "<style>#sk-container-id-1 {color: black;background-color: white;}#sk-container-id-1 pre{padding: 0;}#sk-container-id-1 div.sk-toggleable {background-color: white;}#sk-container-id-1 label.sk-toggleable__label {cursor: pointer;display: block;width: 100%;margin-bottom: 0;padding: 0.3em;box-sizing: border-box;text-align: center;}#sk-container-id-1 label.sk-toggleable__label-arrow:before {content: \"▸\";float: left;margin-right: 0.25em;color: #696969;}#sk-container-id-1 label.sk-toggleable__label-arrow:hover:before {color: black;}#sk-container-id-1 div.sk-estimator:hover label.sk-toggleable__label-arrow:before {color: black;}#sk-container-id-1 div.sk-toggleable__content {max-height: 0;max-width: 0;overflow: hidden;text-align: left;background-color: #f0f8ff;}#sk-container-id-1 div.sk-toggleable__content pre {margin: 0.2em;color: black;border-radius: 0.25em;background-color: #f0f8ff;}#sk-container-id-1 input.sk-toggleable__control:checked~div.sk-toggleable__content {max-height: 200px;max-width: 100%;overflow: auto;}#sk-container-id-1 input.sk-toggleable__control:checked~label.sk-toggleable__label-arrow:before {content: \"▾\";}#sk-container-id-1 div.sk-estimator input.sk-toggleable__control:checked~label.sk-toggleable__label {background-color: #d4ebff;}#sk-container-id-1 div.sk-label input.sk-toggleable__control:checked~label.sk-toggleable__label {background-color: #d4ebff;}#sk-container-id-1 input.sk-hidden--visually {border: 0;clip: rect(1px 1px 1px 1px);clip: rect(1px, 1px, 1px, 1px);height: 1px;margin: -1px;overflow: hidden;padding: 0;position: absolute;width: 1px;}#sk-container-id-1 div.sk-estimator {font-family: monospace;background-color: #f0f8ff;border: 1px dotted black;border-radius: 0.25em;box-sizing: border-box;margin-bottom: 0.5em;}#sk-container-id-1 div.sk-estimator:hover {background-color: #d4ebff;}#sk-container-id-1 div.sk-parallel-item::after {content: \"\";width: 100%;border-bottom: 1px solid gray;flex-grow: 1;}#sk-container-id-1 div.sk-label:hover label.sk-toggleable__label {background-color: #d4ebff;}#sk-container-id-1 div.sk-serial::before {content: \"\";position: absolute;border-left: 1px solid gray;box-sizing: border-box;top: 0;bottom: 0;left: 50%;z-index: 0;}#sk-container-id-1 div.sk-serial {display: flex;flex-direction: column;align-items: center;background-color: white;padding-right: 0.2em;padding-left: 0.2em;position: relative;}#sk-container-id-1 div.sk-item {position: relative;z-index: 1;}#sk-container-id-1 div.sk-parallel {display: flex;align-items: stretch;justify-content: center;background-color: white;position: relative;}#sk-container-id-1 div.sk-item::before, #sk-container-id-1 div.sk-parallel-item::before {content: \"\";position: absolute;border-left: 1px solid gray;box-sizing: border-box;top: 0;bottom: 0;left: 50%;z-index: -1;}#sk-container-id-1 div.sk-parallel-item {display: flex;flex-direction: column;z-index: 1;position: relative;background-color: white;}#sk-container-id-1 div.sk-parallel-item:first-child::after {align-self: flex-end;width: 50%;}#sk-container-id-1 div.sk-parallel-item:last-child::after {align-self: flex-start;width: 50%;}#sk-container-id-1 div.sk-parallel-item:only-child::after {width: 0;}#sk-container-id-1 div.sk-dashed-wrapped {border: 1px dashed gray;margin: 0 0.4em 0.5em 0.4em;box-sizing: border-box;padding-bottom: 0.4em;background-color: white;}#sk-container-id-1 div.sk-label label {font-family: monospace;font-weight: bold;display: inline-block;line-height: 1.2em;}#sk-container-id-1 div.sk-label-container {text-align: center;}#sk-container-id-1 div.sk-container {/* jupyter's `normalize.less` sets `[hidden] { display: none; }` but bootstrap.min.css set `[hidden] { display: none !important; }` so we also need the `!important` here to be able to override the default hidden behavior on the sphinx rendered scikit-learn.org. See: https://github.com/scikit-learn/scikit-learn/issues/21755 */display: inline-block !important;position: relative;}#sk-container-id-1 div.sk-text-repr-fallback {display: none;}</style><div id=\"sk-container-id-1\" class=\"sk-top-container\"><div class=\"sk-text-repr-fallback\"><pre>LogisticRegression()</pre><b>In a Jupyter environment, please rerun this cell to show the HTML representation or trust the notebook. <br />On GitHub, the HTML representation is unable to render, please try loading this page with nbviewer.org.</b></div><div class=\"sk-container\" hidden><div class=\"sk-item\"><div class=\"sk-estimator sk-toggleable\"><input class=\"sk-toggleable__control sk-hidden--visually\" id=\"sk-estimator-id-1\" type=\"checkbox\" checked><label for=\"sk-estimator-id-1\" class=\"sk-toggleable__label sk-toggleable__label-arrow\">LogisticRegression</label><div class=\"sk-toggleable__content\"><pre>LogisticRegression()</pre></div></div></div></div></div>"
            ]
          },
          "metadata": {},
          "execution_count": 15
        }
      ]
    },
    {
      "cell_type": "markdown",
      "source": [
        "**Exploratory Data Analysis (EDA)**"
      ],
      "metadata": {
        "id": "RNzcXda7OwXg"
      }
    },
    {
      "cell_type": "code",
      "source": [
        "import pandas as pd\n",
        "\n",
        "# Load the training data\n",
        "train_data = pd.read_csv(\"train_data.csv\")\n",
        "\n",
        "# Display basic information about the dataset\n",
        "print(train_data.info())\n",
        "\n",
        "# Display summary statistics\n",
        "print(train_data.describe())\n",
        "\n",
        "# Visualize the distribution of the target variable\n",
        "import seaborn as sns\n",
        "import matplotlib.pyplot as plt\n",
        "\n",
        "sns.countplot(x='Is high risk', data=train_data)\n",
        "plt.show()\n"
      ],
      "metadata": {
        "colab": {
          "base_uri": "https://localhost:8080/",
          "height": 1000
        },
        "id": "w6D6tXVcOtEp",
        "outputId": "3085e41b-3ae2-47b1-dd96-009bdb592114"
      },
      "execution_count": null,
      "outputs": [
        {
          "output_type": "stream",
          "name": "stdout",
          "text": [
            "<class 'pandas.core.frame.DataFrame'>\n",
            "RangeIndex: 29165 entries, 0 to 29164\n",
            "Data columns (total 20 columns):\n",
            " #   Column               Non-Null Count  Dtype  \n",
            "---  ------               --------------  -----  \n",
            " 0   ID                   29165 non-null  int64  \n",
            " 1   Gender               29165 non-null  object \n",
            " 2   Has a car            29165 non-null  object \n",
            " 3   Has a property       29165 non-null  object \n",
            " 4   Children count       29165 non-null  int64  \n",
            " 5   Income               29165 non-null  float64\n",
            " 6   Employment status    29165 non-null  object \n",
            " 7   Education level      29165 non-null  object \n",
            " 8   Marital status       29165 non-null  object \n",
            " 9   Dwelling             29165 non-null  object \n",
            " 10  Age                  29165 non-null  int64  \n",
            " 11  Employment length    29165 non-null  int64  \n",
            " 12  Has a mobile phone   29165 non-null  int64  \n",
            " 13  Has a work phone     29165 non-null  int64  \n",
            " 14  Has a phone          29165 non-null  int64  \n",
            " 15  Has an email         29165 non-null  int64  \n",
            " 16  Job title            20138 non-null  object \n",
            " 17  Family member count  29165 non-null  float64\n",
            " 18  Account age          29165 non-null  float64\n",
            " 19  Is high risk         29165 non-null  int64  \n",
            "dtypes: float64(3), int64(9), object(8)\n",
            "memory usage: 4.5+ MB\n",
            "None\n",
            "                 ID  Children count        Income           Age  \\\n",
            "count  2.916500e+04    29165.000000  2.916500e+04  29165.000000   \n",
            "mean   5.078232e+06        0.430790  1.868904e+05 -15979.477490   \n",
            "std    4.182400e+04        0.741882  1.014096e+05   4202.997485   \n",
            "min    5.008804e+06        0.000000  2.700000e+04 -25152.000000   \n",
            "25%    5.042047e+06        0.000000  1.215000e+05 -19444.000000   \n",
            "50%    5.074666e+06        0.000000  1.575000e+05 -15565.000000   \n",
            "75%    5.114629e+06        1.000000  2.250000e+05 -12475.000000   \n",
            "max    5.150485e+06       19.000000  1.575000e+06  -7705.000000   \n",
            "\n",
            "       Employment length  Has a mobile phone  Has a work phone   Has a phone  \\\n",
            "count       29165.000000             29165.0      29165.000000  29165.000000   \n",
            "mean        59257.761255                 1.0          0.224310      0.294977   \n",
            "std        137655.883458                 0.0          0.417134      0.456040   \n",
            "min        -15713.000000                 1.0          0.000000      0.000000   \n",
            "25%         -3153.000000                 1.0          0.000000      0.000000   \n",
            "50%         -1557.000000                 1.0          0.000000      0.000000   \n",
            "75%          -412.000000                 1.0          0.000000      1.000000   \n",
            "max        365243.000000                 1.0          1.000000      1.000000   \n",
            "\n",
            "       Has an email  Family member count   Account age  Is high risk  \n",
            "count  29165.000000         29165.000000  29165.000000  29165.000000  \n",
            "mean       0.090279             2.197531    -26.137734      0.017110  \n",
            "std        0.286587             0.912189     16.486702      0.129682  \n",
            "min        0.000000             1.000000    -60.000000      0.000000  \n",
            "25%        0.000000             2.000000    -39.000000      0.000000  \n",
            "50%        0.000000             2.000000    -24.000000      0.000000  \n",
            "75%        0.000000             3.000000    -12.000000      0.000000  \n",
            "max        1.000000            20.000000      0.000000      1.000000  \n"
          ]
        },
        {
          "output_type": "display_data",
          "data": {
            "text/plain": [
              "<Figure size 640x480 with 1 Axes>"
            ],
            "image/png": "[encoded data removed]"
          },
          "metadata": {}
        }
      ]
    },
    {
      "cell_type": "markdown",
      "source": [
        "**Data Preprocessing**"
      ],
      "metadata": {
        "id": "NCh2-hecO1S0"
      }
    },
    {
      "cell_type": "code",
      "source": [
        "# Handle missing values (assuming filling missing numerical values with mean and categorical with mode)\n",
        "train_data.fillna(train_data.mean(), inplace=True)\n",
        "train_data.fillna(train_data.mode().iloc[0], inplace=True)\n",
        "\n",
        "# Encode categorical variables using one-hot encoding\n",
        "train_data = pd.get_dummies(train_data)\n",
        "\n",
        "# Separate features and target variable\n",
        "X = train_data.drop(columns=['ID', 'Is high risk'])\n",
        "y = train_data['Is high risk']\n"
      ],
      "metadata": {
        "colab": {
          "base_uri": "https://localhost:8080/"
        },
        "id": "ZQvmzXEOHqj6",
        "outputId": "b39debaf-446b-4d9e-f9fd-02ee1db21edb"
      },
      "execution_count": null,
      "outputs": [
        {
          "output_type": "stream",
          "name": "stderr",
          "text": [
            "<ipython-input-17-ea64ad7946af>:2: FutureWarning: The default value of numeric_only in DataFrame.mean is deprecated. In a future version, it will default to False. In addition, specifying 'numeric_only=None' is deprecated. Select only valid columns or specify the value of numeric_only to silence this warning.\n",
            "  train_data.fillna(train_data.mean(), inplace=True)\n"
          ]
        }
      ]
    },
    {
      "cell_type": "markdown",
      "source": [
        "**Machine Learning Model Development**"
      ],
      "metadata": {
        "id": "M2qH4WjaO7IP"
      }
    },
    {
      "cell_type": "code",
      "source": [
        "from sklearn.model_selection import train_test_split\n",
        "from sklearn.ensemble import RandomForestClassifier\n",
        "\n",
        "# Split the data into training and validation sets\n",
        "X_train, X_val, y_train, y_val = train_test_split(X, y, test_size=0.2, random_state=42)\n",
        "\n",
        "# Initialize and train the Random Forest classifier\n",
        "rf_classifier = RandomForestClassifier(n_estimators=100, random_state=42)\n",
        "rf_classifier.fit(X_train, y_train)\n"
      ],
      "metadata": {
        "colab": {
          "base_uri": "https://localhost:8080/",
          "height": 75
        },
        "id": "CO_Aaxx4HvF-",
        "outputId": "b1bf68b3-3520-4dc0-f928-f8286f130cf2"
      },
      "execution_count": null,
      "outputs": [
        {
          "output_type": "execute_result",
          "data": {
            "text/plain": [
              "RandomForestClassifier(random_state=42)"
            ],
            "text/html": [
              "<style>#sk-container-id-2 {color: black;background-color: white;}#sk-container-id-2 pre{padding: 0;}#sk-container-id-2 div.sk-toggleable {background-color: white;}#sk-container-id-2 label.sk-toggleable__label {cursor: pointer;display: block;width: 100%;margin-bottom: 0;padding: 0.3em;box-sizing: border-box;text-align: center;}#sk-container-id-2 label.sk-toggleable__label-arrow:before {content: \"▸\";float: left;margin-right: 0.25em;color: #696969;}#sk-container-id-2 label.sk-toggleable__label-arrow:hover:before {color: black;}#sk-container-id-2 div.sk-estimator:hover label.sk-toggleable__label-arrow:before {color: black;}#sk-container-id-2 div.sk-toggleable__content {max-height: 0;max-width: 0;overflow: hidden;text-align: left;background-color: #f0f8ff;}#sk-container-id-2 div.sk-toggleable__content pre {margin: 0.2em;color: black;border-radius: 0.25em;background-color: #f0f8ff;}#sk-container-id-2 input.sk-toggleable__control:checked~div.sk-toggleable__content {max-height: 200px;max-width: 100%;overflow: auto;}#sk-container-id-2 input.sk-toggleable__control:checked~label.sk-toggleable__label-arrow:before {content: \"▾\";}#sk-container-id-2 div.sk-estimator input.sk-toggleable__control:checked~label.sk-toggleable__label {background-color: #d4ebff;}#sk-container-id-2 div.sk-label input.sk-toggleable__control:checked~label.sk-toggleable__label {background-color: #d4ebff;}#sk-container-id-2 input.sk-hidden--visually {border: 0;clip: rect(1px 1px 1px 1px);clip: rect(1px, 1px, 1px, 1px);height: 1px;margin: -1px;overflow: hidden;padding: 0;position: absolute;width: 1px;}#sk-container-id-2 div.sk-estimator {font-family: monospace;background-color: #f0f8ff;border: 1px dotted black;border-radius: 0.25em;box-sizing: border-box;margin-bottom: 0.5em;}#sk-container-id-2 div.sk-estimator:hover {background-color: #d4ebff;}#sk-container-id-2 div.sk-parallel-item::after {content: \"\";width: 100%;border-bottom: 1px solid gray;flex-grow: 1;}#sk-container-id-2 div.sk-label:hover label.sk-toggleable__label {background-color: #d4ebff;}#sk-container-id-2 div.sk-serial::before {content: \"\";position: absolute;border-left: 1px solid gray;box-sizing: border-box;top: 0;bottom: 0;left: 50%;z-index: 0;}#sk-container-id-2 div.sk-serial {display: flex;flex-direction: column;align-items: center;background-color: white;padding-right: 0.2em;padding-left: 0.2em;position: relative;}#sk-container-id-2 div.sk-item {position: relative;z-index: 1;}#sk-container-id-2 div.sk-parallel {display: flex;align-items: stretch;justify-content: center;background-color: white;position: relative;}#sk-container-id-2 div.sk-item::before, #sk-container-id-2 div.sk-parallel-item::before {content: \"\";position: absolute;border-left: 1px solid gray;box-sizing: border-box;top: 0;bottom: 0;left: 50%;z-index: -1;}#sk-container-id-2 div.sk-parallel-item {display: flex;flex-direction: column;z-index: 1;position: relative;background-color: white;}#sk-container-id-2 div.sk-parallel-item:first-child::after {align-self: flex-end;width: 50%;}#sk-container-id-2 div.sk-parallel-item:last-child::after {align-self: flex-start;width: 50%;}#sk-container-id-2 div.sk-parallel-item:only-child::after {width: 0;}#sk-container-id-2 div.sk-dashed-wrapped {border: 1px dashed gray;margin: 0 0.4em 0.5em 0.4em;box-sizing: border-box;padding-bottom: 0.4em;background-color: white;}#sk-container-id-2 div.sk-label label {font-family: monospace;font-weight: bold;display: inline-block;line-height: 1.2em;}#sk-container-id-2 div.sk-label-container {text-align: center;}#sk-container-id-2 div.sk-container {/* jupyter's `normalize.less` sets `[hidden] { display: none; }` but bootstrap.min.css set `[hidden] { display: none !important; }` so we also need the `!important` here to be able to override the default hidden behavior on the sphinx rendered scikit-learn.org. See: https://github.com/scikit-learn/scikit-learn/issues/21755 */display: inline-block !important;position: relative;}#sk-container-id-2 div.sk-text-repr-fallback {display: none;}</style><div id=\"sk-container-id-2\" class=\"sk-top-container\"><div class=\"sk-text-repr-fallback\"><pre>RandomForestClassifier(random_state=42)</pre><b>In a Jupyter environment, please rerun this cell to show the HTML representation or trust the notebook. <br />On GitHub, the HTML representation is unable to render, please try loading this page with nbviewer.org.</b></div><div class=\"sk-container\" hidden><div class=\"sk-item\"><div class=\"sk-estimator sk-toggleable\"><input class=\"sk-toggleable__control sk-hidden--visually\" id=\"sk-estimator-id-2\" type=\"checkbox\" checked><label for=\"sk-estimator-id-2\" class=\"sk-toggleable__label sk-toggleable__label-arrow\">RandomForestClassifier</label><div class=\"sk-toggleable__content\"><pre>RandomForestClassifier(random_state=42)</pre></div></div></div></div></div>"
            ]
          },
          "metadata": {},
          "execution_count": 18
        }
      ]
    },
    {
      "cell_type": "markdown",
      "source": [
        "**Model Evaluation**"
      ],
      "metadata": {
        "id": "wGXx_sfyPDRD"
      }
    },
    {
      "cell_type": "code",
      "source": [
        "from sklearn.metrics import classification_report, confusion_matrix, roc_auc_score\n",
        "\n",
        "# Make predictions on the validation set\n",
        "y_pred = rf_classifier.predict(X_val)\n",
        "\n",
        "# Evaluate the model\n",
        "print(\"Classification Report:\")\n",
        "print(classification_report(y_val, y_pred))\n",
        "print(\"Confusion Matrix:\")\n",
        "print(confusion_matrix(y_val, y_pred))\n",
        "print(\"ROC AUC Score:\", roc_auc_score(y_val, y_pred))\n"
      ],
      "metadata": {
        "colab": {
          "base_uri": "https://localhost:8080/"
        },
        "id": "lNoNHlsuHw_C",
        "outputId": "cf1ca028-4315-4bee-f008-9db1b81d0e03"
      },
      "execution_count": null,
      "outputs": [
        {
          "output_type": "stream",
          "name": "stdout",
          "text": [
            "Classification Report:\n",
            "              precision    recall  f1-score   support\n",
            "\n",
            "           0       0.99      1.00      0.99      5747\n",
            "           1       0.30      0.10      0.16        86\n",
            "\n",
            "    accuracy                           0.98      5833\n",
            "   macro avg       0.64      0.55      0.57      5833\n",
            "weighted avg       0.98      0.98      0.98      5833\n",
            "\n",
            "Confusion Matrix:\n",
            "[[5726   21]\n",
            " [  77    9]]\n",
            "ROC AUC Score: 0.5504985412004645\n"
          ]
        }
      ]
    },
    {
      "cell_type": "markdown",
      "source": [
        "**Prediction for Credit card Approval**\n",
        "\n",
        "*Krupa Maru (MIP-ML-04)*"
      ],
      "metadata": {
        "id": "kI79rG2ZI4s0"
      }
    },
    {
      "cell_type": "markdown",
      "source": [
        "**Predicting Credit Card Approval**"
      ],
      "metadata": {
        "id": "60xdujdOPZWQ"
      }
    },
    {
      "cell_type": "code",
      "source": [
        "import pandas as pd\n",
        "\n",
        "# Load the test data\n",
        "test_data = pd.read_csv(\"test_data.csv\")\n",
        "\n",
        "# Display basic information about the test dataset\n",
        "print(test_data.info())\n",
        "\n",
        "# Display summary statistics of the test dataset\n",
        "print(test_data.describe())\n",
        "\n",
        "# Preprocess the test data (handling missing values and encoding categorical variables)\n",
        "test_data.fillna(test_data.mean(), inplace=True)  # Fill missing numerical values with mean\n",
        "test_data.fillna(test_data.mode().iloc[0], inplace=True)  # Fill missing categorical values with mode\n",
        "test_data = pd.get_dummies(test_data)  # One-hot encode categorical variables\n",
        "\n",
        "# Display preprocessed test data\n",
        "print(test_data.head())\n"
      ],
      "metadata": {
        "colab": {
          "base_uri": "https://localhost:8080/"
        },
        "id": "LvSuuHu0H-Bj",
        "outputId": "50dcf5dc-7188-4063-967a-129c7d5154b0"
      },
      "execution_count": null,
      "outputs": [
        {
          "output_type": "stream",
          "name": "stdout",
          "text": [
            "<class 'pandas.core.frame.DataFrame'>\n",
            "RangeIndex: 7292 entries, 0 to 7291\n",
            "Data columns (total 20 columns):\n",
            " #   Column               Non-Null Count  Dtype  \n",
            "---  ------               --------------  -----  \n",
            " 0   ID                   7292 non-null   int64  \n",
            " 1   Gender               7292 non-null   object \n",
            " 2   Has a car            7292 non-null   object \n",
            " 3   Has a property       7292 non-null   object \n",
            " 4   Children count       7292 non-null   int64  \n",
            " 5   Income               7292 non-null   float64\n",
            " 6   Employment status    7292 non-null   object \n",
            " 7   Education level      7292 non-null   object \n",
            " 8   Marital status       7292 non-null   object \n",
            " 9   Dwelling             7292 non-null   object \n",
            " 10  Age                  7292 non-null   int64  \n",
            " 11  Employment length    7292 non-null   int64  \n",
            " 12  Has a mobile phone   7292 non-null   int64  \n",
            " 13  Has a work phone     7292 non-null   int64  \n",
            " 14  Has a phone          7292 non-null   int64  \n",
            " 15  Has an email         7292 non-null   int64  \n",
            " 16  Job title            4996 non-null   object \n",
            " 17  Family member count  7292 non-null   float64\n",
            " 18  Account age          7292 non-null   float64\n",
            " 19  Is high risk         7292 non-null   int64  \n",
            "dtypes: float64(3), int64(9), object(8)\n",
            "memory usage: 1.1+ MB\n",
            "None\n",
            "                 ID  Children count        Income           Age  \\\n",
            "count  7.292000e+03     7292.000000  7.292000e+03   7292.000000   \n",
            "mean   5.078209e+06        0.428415  1.858672e+05 -15957.958722   \n",
            "std    4.208243e+04        0.744350  1.032964e+05   4190.990010   \n",
            "min    5.008809e+06        0.000000  2.700000e+04 -25152.000000   \n",
            "25%    5.041912e+06        0.000000  1.170000e+05 -19382.000000   \n",
            "50%    5.069416e+06        0.000000  1.575000e+05 -15522.000000   \n",
            "75%    5.115503e+06        1.000000  2.250000e+05 -12454.000000   \n",
            "max    5.150487e+06       14.000000  1.575000e+06  -7489.000000   \n",
            "\n",
            "       Employment length  Has a mobile phone  Has a work phone  Has a phone  \\\n",
            "count        7292.000000              7292.0       7292.000000  7292.000000   \n",
            "mean        59283.630691                 1.0          0.230389     0.294158   \n",
            "std        137642.577749                 0.0          0.421111     0.455695   \n",
            "min        -15661.000000                 1.0          0.000000     0.000000   \n",
            "25%         -3141.000000                 1.0          0.000000     0.000000   \n",
            "50%         -1534.000000                 1.0          0.000000     0.000000   \n",
            "75%          -397.000000                 1.0          0.000000     1.000000   \n",
            "max        365243.000000                 1.0          1.000000     1.000000   \n",
            "\n",
            "       Has an email  Family member count  Account age  Is high risk  \n",
            "count   7292.000000          7292.000000  7292.000000   7292.000000  \n",
            "mean       0.087493             2.202139   -26.270022      0.016045  \n",
            "std        0.282576             0.909726    16.563032      0.125657  \n",
            "min        0.000000             1.000000   -60.000000      0.000000  \n",
            "25%        0.000000             2.000000   -39.000000      0.000000  \n",
            "50%        0.000000             2.000000   -24.000000      0.000000  \n",
            "75%        0.000000             3.000000   -12.000000      0.000000  \n",
            "max        1.000000            15.000000     0.000000      1.000000  \n",
            "        ID  Children count    Income    Age  Employment length  \\\n",
            "0  5091261               0  202500.0 -16834              -1692   \n",
            "1  5096963               0  675000.0 -18126               -948   \n",
            "2  5087880               0  234000.0 -21967              -5215   \n",
            "3  5021949               0  445500.0 -12477               -456   \n",
            "4  5105705               0  225000.0 -12155               -667   \n",
            "\n",
            "   Has a mobile phone  Has a work phone  Has a phone  Has an email  \\\n",
            "0                   1                 0            0             0   \n",
            "1                   1                 0            1             0   \n",
            "2                   1                 0            0             1   \n",
            "3                   1                 0            0             0   \n",
            "4                   1                 0            0             0   \n",
            "\n",
            "   Family member count  ...  Job title_Laborers  Job title_Low-skill Laborers  \\\n",
            "0                  1.0  ...                   0                             0   \n",
            "1                  2.0  ...                   0                             0   \n",
            "2                  2.0  ...                   0                             0   \n",
            "3                  2.0  ...                   0                             0   \n",
            "4                  2.0  ...                   1                             0   \n",
            "\n",
            "   Job title_Managers  Job title_Medicine staff  \\\n",
            "0                   0                         1   \n",
            "1                   1                         0   \n",
            "2                   0                         0   \n",
            "3                   1                         0   \n",
            "4                   0                         0   \n",
            "\n",
            "   Job title_Private service staff  Job title_Realty agents  \\\n",
            "0                                0                        0   \n",
            "1                                0                        0   \n",
            "2                                0                        0   \n",
            "3                                0                        0   \n",
            "4                                0                        0   \n",
            "\n",
            "   Job title_Sales staff  Job title_Secretaries  Job title_Security staff  \\\n",
            "0                      0                      0                         0   \n",
            "1                      0                      0                         0   \n",
            "2                      0                      0                         0   \n",
            "3                      0                      0                         0   \n",
            "4                      0                      0                         0   \n",
            "\n",
            "   Job title_Waiters/barmen staff  \n",
            "0                               0  \n",
            "1                               0  \n",
            "2                               0  \n",
            "3                               0  \n",
            "4                               0  \n",
            "\n",
            "[5 rows x 57 columns]\n"
          ]
        },
        {
          "output_type": "stream",
          "name": "stderr",
          "text": [
            "<ipython-input-20-f95a7a68426e>:13: FutureWarning: The default value of numeric_only in DataFrame.mean is deprecated. In a future version, it will default to False. In addition, specifying 'numeric_only=None' is deprecated. Select only valid columns or specify the value of numeric_only to silence this warning.\n",
            "  test_data.fillna(test_data.mean(), inplace=True)  # Fill missing numerical values with mean\n"
          ]
        }
      ]
    },
    {
      "cell_type": "code",
      "source": [
        "# Make predictions on the test data using the trained model\n",
        "test_predictions = rf_classifier.predict(test_data.drop(columns=['ID', 'Is high risk']))\n",
        "\n",
        "# Display the predicted values\n",
        "print(test_predictions)\n"
      ],
      "metadata": {
        "colab": {
          "base_uri": "https://localhost:8080/"
        },
        "id": "8A85nyQsSOXX",
        "outputId": "6873fe26-5d91-466e-df71-9d343b9e01e0"
      },
      "execution_count": null,
      "outputs": [
        {
          "output_type": "stream",
          "name": "stdout",
          "text": [
            "[0 0 0 ... 0 0 0]\n"
          ]
        }
      ]
    },
    {
      "cell_type": "markdown",
      "source": [
        "**Prediction for Credit card Approval**\n",
        "\n",
        "*Krupa Maru (MIP-ML-04)*"
      ],
      "metadata": {
        "id": "j_fxVQMII6i-"
      }
    }
  ]
}